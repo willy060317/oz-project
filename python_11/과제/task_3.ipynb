{
 "cells": [
  {
   "cell_type": "markdown",
   "metadata": {},
   "source": [
    "사용자로부터 여러 개의 숫자를 입력받아 리스트에 저장한 후, 사용자가 'done'이라고 입력할 때까지 계속 입력받으세요. \n",
    "\n",
    "- 입력 중 숫자가 아닌 값이 입력되면 ValueError를 처리\n",
    "- 숫자 외 값이 입력된 경우 어떤 값이 잘못 입력되었는지 사용자에게 알려주는 문구 출력<br>\n",
    "  (예: f\"잘못된 값: {변수}. 숫자를 입력해주세요.\")\n",
    "\n"
   ]
  },
  {
   "cell_type": "code",
   "execution_count": 4,
   "metadata": {},
   "outputs": [
    {
     "name": "stdout",
     "output_type": "stream",
     "text": [
      "입력된 값: [3452.0, 234.0]\n"
     ]
    }
   ],
   "source": [
    "\n",
    "numbers = []  # numbers 리스트를 선언합니다.\n",
    "\n",
    "while True:\n",
    "    x = input(\"여러 숫자를 입력하세요 (완료하려면 'done' 입력): \")\n",
    "    if x.lower() == 'done':\n",
    "        break\n",
    "    try:\n",
    "        number = float(x)\n",
    "        numbers.append(number)  # 입력된 숫자를 numbers 리스트에 추가합니다.\n",
    "    except ValueError:\n",
    "        print(\"숫자가 아닙니다.\")\n",
    "\n",
    "# 사용자가 'done' 입력 후, 입력된 숫자 목록을 출력합니다.\n",
    "print(f'입력된 값: {numbers}')"
   ]
  },
  {
   "cell_type": "markdown",
   "metadata": {},
   "source": []
  }
 ],
 "metadata": {
  "kernelspec": {
   "display_name": "Python 3",
   "language": "python",
   "name": "python3"
  },
  "language_info": {
   "codemirror_mode": {
    "name": "ipython",
    "version": 3
   },
   "file_extension": ".py",
   "mimetype": "text/x-python",
   "name": "python",
   "nbconvert_exporter": "python",
   "pygments_lexer": "ipython3",
   "version": "3.12.6"
  }
 },
 "nbformat": 4,
 "nbformat_minor": 2
}
