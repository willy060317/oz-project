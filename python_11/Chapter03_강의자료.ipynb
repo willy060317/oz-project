{
 "cells": [
  {
   "cell_type": "code",
   "execution_count": null,
   "metadata": {
    "colab": {
     "base_uri": "https://localhost:8080/"
    },
    "executionInfo": {
     "elapsed": 432,
     "status": "ok",
     "timestamp": 1701871859477,
     "user": {
      "displayName": "양성훈",
      "userId": "00292789611186659621"
     },
     "user_tz": -540
    },
    "id": "eiyz3NbLdnvr",
    "outputId": "131b7606-12a9-4c98-878c-c8c73311d826"
   },
   "outputs": [
    {
     "name": "stdout",
     "output_type": "stream",
     "text": [
      "안녕하세요\n"
     ]
    }
   ],
   "source": [
    "# 주석은 #을 이용해서 작성합니다.\n",
    "\n",
    "print(\"안녕하세요\")\n",
    "# print(\"방가워요\")"
   ]
  },
  {
   "cell_type": "code",
   "execution_count": null,
   "metadata": {
    "colab": {
     "base_uri": "https://localhost:8080/"
    },
    "executionInfo": {
     "elapsed": 3,
     "status": "ok",
     "timestamp": 1701872228609,
     "user": {
      "displayName": "양성훈",
      "userId": "00292789611186659621"
     },
     "user_tz": -540
    },
    "id": "txG4CsI1dz0_",
    "outputId": "49fff99c-ac37-41f5-feda-78139c4b3100"
   },
   "outputs": [
    {
     "name": "stdout",
     "output_type": "stream",
     "text": [
      "여러분 주석은 어떻게 하는거라고 했죠?\n",
      "# 입니다 \n"
     ]
    }
   ],
   "source": [
    "# print(\"여러분 주석은 어떻게 하는거라고 했죠?\")\n",
    "# print(\"# 입니다 \")"
   ]
  },
  {
   "cell_type": "code",
   "execution_count": null,
   "metadata": {
    "colab": {
     "base_uri": "https://localhost:8080/"
    },
    "executionInfo": {
     "elapsed": 356,
     "status": "ok",
     "timestamp": 1710160667812,
     "user": {
      "displayName": "양성훈",
      "userId": "00292789611186659621"
     },
     "user_tz": -540
    },
    "id": "riqeUns9eAuK",
    "outputId": "ef05af8d-49bc-4f40-d9ab-b3c884b03eda"
   },
   "outputs": [
    {
     "name": "stdout",
     "output_type": "stream",
     "text": [
      "토끼\n",
      "보러 갈래요?\n",
      "사자\n",
      "보러 갈래요?\n",
      "푸바오\n",
      "보러 갈래요?\n",
      "호랑이\n",
      "보러 갈래요?\n"
     ]
    }
   ],
   "source": [
    "#현재 for문과 아래 for문을 실행해 들여쓰기에 따라 달라지는 결과를 확인해보세요\n",
    "#현재 for문안에는 들여쓰기로 2개의 print문이 들어가 있어, for문 실행 시 2개의 print문이 출력이 됩니다.\n",
    "for 동물 in (\"토끼\", \"사자\", \"푸바오\", \"호랑이\"):\n",
    "  print(동물)\n",
    "  print(\"보러 갈래요?\")"
   ]
  },
  {
   "cell_type": "code",
   "execution_count": 2,
   "metadata": {
    "colab": {
     "base_uri": "https://localhost:8080/"
    },
    "executionInfo": {
     "elapsed": 369,
     "status": "ok",
     "timestamp": 1710160875372,
     "user": {
      "displayName": "양성훈",
      "userId": "00292789611186659621"
     },
     "user_tz": -540
    },
    "id": "BWZM1HPAfv-a",
    "outputId": "c36487bc-b801-4ed4-fe5e-3365e804e008"
   },
   "outputs": [
    {
     "name": "stdout",
     "output_type": "stream",
     "text": [
      "토끼\n",
      "사자\n",
      "푸바오\n",
      "호랑이\n",
      "보러 갈래요?\n"
     ]
    }
   ],
   "source": [
    "#반면, for문 바로 아래에 있는 print문만 들여쓰기가 적용되어 있기 때문에 for문 실행 시 첫번째 print문만 작동하게 됩니다.\n",
    "for 동물 in (\"토끼\", \"사자\", \"푸바오\", \"호랑이\"):\n",
    "  print(동물)\n",
    "print(\"보러 갈래요?\")"
   ]
  },
  {
   "cell_type": "code",
   "execution_count": 4,
   "metadata": {
    "id": "PjXGMImZh_-M"
   },
   "outputs": [
    {
     "name": "stdout",
     "output_type": "stream",
     "text": [
      "신\n",
      "재벌\n",
      "천재\n",
      "그러니까 날 추종해라\n"
     ]
    }
   ],
   "source": [
    "for 나는 in (\"신\", \"재벌\", \"천재\"):\n",
    "    print(나는)\n",
    "print(\"그러니까 날 추종해라\")"
   ]
  },
  {
   "cell_type": "code",
   "execution_count": null,
   "metadata": {},
   "outputs": [],
   "source": []
  }
 ],
 "metadata": {
  "colab": {
   "provenance": []
  },
  "kernelspec": {
   "display_name": "Python 3",
   "name": "python3"
  },
  "language_info": {
   "codemirror_mode": {
    "name": "ipython",
    "version": 3
   },
   "file_extension": ".py",
   "mimetype": "text/x-python",
   "name": "python",
   "nbconvert_exporter": "python",
   "pygments_lexer": "ipython3",
   "version": "3.12.6"
  }
 },
 "nbformat": 4,
 "nbformat_minor": 0
}
