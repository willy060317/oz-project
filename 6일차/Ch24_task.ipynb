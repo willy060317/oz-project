{
 "cells": [
  {
   "cell_type": "markdown",
   "metadata": {},
   "source": [
    "사용자의 이름, 나이, 성별을 출력하는 함수 print_info를 작성하세요. 이 때, 모든 매개변수는 키워드 매개변수로만 받도록 하세요."
   ]
  },
  {
   "cell_type": "markdown",
   "metadata": {},
   "source": []
  },
  {
   "cell_type": "code",
   "execution_count": 4,
   "metadata": {},
   "outputs": [
    {
     "name": "stdout",
     "output_type": "stream",
     "text": [
      "이름: 70,70,07\n",
      "나이: 70\n",
      "성별: 870\n"
     ]
    }
   ],
   "source": [
    "def print_info(x, y, z):\n",
    "        print(\"이름:\",x)\n",
    "        print(\"나이:\",y)\n",
    "        print(\"성별:\",z)\n",
    "이름 = input(\"사용자의 이름을 입력하시오\")\n",
    "나이 = input(\"사용자의 나이을 입력하시오\")\n",
    "성별 = input(\"사용자의 성별을 입력하시오\")\n",
    "\n",
    "print_info(이름, 나이, 성별)"
   ]
  }
 ],
 "metadata": {
  "kernelspec": {
   "display_name": "Python 3",
   "language": "python",
   "name": "python3"
  },
  "language_info": {
   "codemirror_mode": {
    "name": "ipython",
    "version": 3
   },
   "file_extension": ".py",
   "mimetype": "text/x-python",
   "name": "python",
   "nbconvert_exporter": "python",
   "pygments_lexer": "ipython3",
   "version": "3.12.6"
  }
 },
 "nbformat": 4,
 "nbformat_minor": 2
}
